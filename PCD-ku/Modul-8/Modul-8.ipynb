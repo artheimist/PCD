{
 "cells": [
  {
   "cell_type": "code",
   "execution_count": 7,
   "metadata": {},
   "outputs": [],
   "source": [
    "import cv2\r\n",
    "import numpy as np\r\n",
    "import math\r\n",
    "import pandas\r\n",
    "import matplotlib\r\n",
    "import os\r\n",
    "import matplotlib.pyplot as plt"
   ]
  },
  {
   "cell_type": "code",
   "execution_count": 9,
   "metadata": {},
   "outputs": [],
   "source": [
    "dataset_dir = \"face_datasets/\"\r\n",
    "\r\n",
    "imgs = [] \r\n",
    "labels = []\r\n",
    "names = []\r\n",
    "for sub_folder in os.listdir(dataset_dir):\r\n",
    "    sub_folder_files = os.listdir(os.path.join(dataset_dir, sub_folder))\r\n",
    "    for i, filename in enumerate(sub_folder_files):\r\n",
    "        img = cv2.imread(os.path.join(dataset_dir, sub_folder, filename))\r\n",
    "        gray = cv2.cvtColor(img, cv2.COLOR_BGR2GRAY)\r\n",
    "        imgs.append(gray)\r\n",
    "        labels.append(sub_folder)\r\n",
    "        names.append(filename)\r\n",
    "\r\n",
    "imgs = np.array(imgs)\r\n",
    "labels = np.array(labels)\r\n",
    "names = np.array(names)"
   ]
  },
  {
   "cell_type": "code",
   "execution_count": 11,
   "metadata": {},
   "outputs": [],
   "source": [
    "def co_occurance (citra, rentang, derajat):\r\n",
    "    matrixCO = np.zeros([rentang+1, rentang+1])\r\n",
    "    p,l = citra.shape\r\n",
    "\r\n",
    "    if(derajat == 0):\r\n",
    "        for i in range(p):\r\n",
    "            for j in range (l):\r\n",
    "                if(j+1 < l):\r\n",
    "                    matrixCO[citra[i,j], citra[i,j+1]] += 1\r\n",
    "    \r\n",
    "    elif(derajat == 45):\r\n",
    "        for i in range (p):\r\n",
    "            for j in range (l):\r\n",
    "                if(i-1 >= 0 and j+1 < l):\r\n",
    "                    matrixCO[citra[i,j], citra[i, j+1]] += 1\r\n",
    "\r\n",
    "    elif(derajat == 90):\r\n",
    "        for i in range (p):\r\n",
    "            for j in range (l):\r\n",
    "                if(i-1 >= 0):\r\n",
    "                    matrixCO[citra[i,j], citra[i, j+1]] += 1\r\n",
    "\r\n",
    "    elif(derajat == 135):\r\n",
    "        for i in range (p):\r\n",
    "            for j in range (l):\r\n",
    "                if(i-1 >= 0 and j+1 > l):\r\n",
    "                    matrixCO[citra[i,j], citra[i, j+1]] += 1"
   ]
  },
  {
   "cell_type": "code",
   "execution_count": null,
   "metadata": {},
   "outputs": [],
   "source": []
  }
 ],
 "metadata": {
  "kernelspec": {
   "display_name": "Python 3.9.2 64-bit",
   "name": "python392jvsc74a57bd0a4853ab3ae38ae9f59b64309acf5d540a803f939ea3884505542daea6eff635d"
  },
  "language_info": {
   "codemirror_mode": {
    "name": "ipython",
    "version": 3
   },
   "file_extension": ".py",
   "mimetype": "text/x-python",
   "name": "python",
   "nbconvert_exporter": "python",
   "pygments_lexer": "ipython3",
   "version": "3.9.2"
  },
  "metadata": {
   "interpreter": {
    "hash": "a4853ab3ae38ae9f59b64309acf5d540a803f939ea3884505542daea6eff635d"
   }
  },
  "orig_nbformat": 2
 },
 "nbformat": 4,
 "nbformat_minor": 2
}