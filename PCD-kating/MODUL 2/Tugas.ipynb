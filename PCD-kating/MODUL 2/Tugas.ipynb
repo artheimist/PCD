{
 "cells": [
  {
   "cell_type": "code",
   "execution_count": 2,
   "metadata": {},
   "outputs": [],
   "source": [
    "import cv2 as cv\n",
    "import numpy as np\n",
    "import scipy.ndimage as nd\n",
    "import matplotlib.image as im\n",
    "import matplotlib.pyplot as plt"
   ]
  },
  {
   "cell_type": "code",
   "execution_count": null,
   "metadata": {},
   "outputs": [],
   "source": [
    "img = cv.imread(\"images.jpg\")\n",
    "zero = np.zeros([1000,1000])\n",
    "cer = np.zeros([500,500])\n",
    "plt.imshow(img)"
   ]
  },
  {
   "cell_type": "code",
   "execution_count": 4,
   "metadata": {},
   "outputs": [],
   "source": [
    "# imgg = np.asarray(img)"
   ]
  },
  {
   "cell_type": "code",
   "execution_count": null,
   "metadata": {},
   "outputs": [],
   "source": [
    "imgg = cv.cvtColor(img, cv.COLOR_BGR2GRAY)"
   ]
  },
  {
   "cell_type": "code",
   "execution_count": null,
   "metadata": {},
   "outputs": [],
   "source": [
    "print(imgg.shape,zero.shape,cer.shape)\n",
    "print(type(imgg),type(zero),type(cer))"
   ]
  },
  {
   "cell_type": "code",
   "execution_count": null,
   "metadata": {},
   "outputs": [],
   "source": [
    "def rotation (imgdata,zeroes,x,y,degre):\n",
    "    degre=np.deg2rad(degre)\n",
    "    for i in range(len(imgdata)):\n",
    "        for j in range(len(imgdata)):\n",
    "            tmpx=(np.cos(degre)*(x-i))-(np.sin(degre)*(y-j)+x)\n",
    "            tmpx=int(tmpx)\n",
    "            tmpy=(np.sin(degre)*(x-i))+(np.cos(degre)*(y-j)+y)\n",
    "            tmpy=int(tmpy)\n",
    "            zeroes[tmpx-300,tmpy+300]=imgdata[i,j]\n",
    "    plt.imshow(zeroes) "
   ]
  },
  {
   "cell_type": "code",
   "execution_count": null,
   "metadata": {},
   "outputs": [],
   "source": [
    "rotation(imgg, zero,250,250,135) \n",
    "# sudah bisa semua sudut"
   ]
  },
  {
   "cell_type": "code",
   "execution_count": null,
   "metadata": {},
   "outputs": [],
   "source": [
    "def cermin (imgdata,p):\n",
    "    for rw in range (len(imgdata)):\n",
    "        k=len(imgdata[0])-1\n",
    "        for cl in range (len(imgdata)):\n",
    "            p[rw,k]=imgdata[rw,cl]\n",
    "            k-=1\n",
    "    plt.imshow(p)"
   ]
  },
  {
   "cell_type": "code",
   "execution_count": null,
   "metadata": {},
   "outputs": [],
   "source": [
    "cermin (imgg ,cer)"
   ]
  },
  {
   "cell_type": "code",
   "execution_count": null,
   "metadata": {},
   "outputs": [],
   "source": [
    "def cerminn (imgdata,p):\n",
    "    k=len(imgdata[0])-1\n",
    "    for rw in range (len(imgdata)):\n",
    "        for cl in range (len(imgdata)):\n",
    "            p[k,cl]=imgdata[rw,cl]\n",
    "        k-=1\n",
    "    plt.imshow(p)"
   ]
  },
  {
   "cell_type": "code",
   "execution_count": null,
   "metadata": {},
   "outputs": [],
   "source": [
    "cerminn (imgg,cer)"
   ]
  },
  {
   "cell_type": "code",
   "execution_count": null,
   "metadata": {},
   "outputs": [],
   "source": []
  }
 ],
 "metadata": {
  "kernelspec": {
   "display_name": "Python 3",
   "language": "python",
   "name": "python3"
  },
  "language_info": {
   "codemirror_mode": {
    "name": "ipython",
    "version": 3
   },
   "file_extension": ".py",
   "mimetype": "text/x-python",
   "name": "python",
   "nbconvert_exporter": "python",
   "pygments_lexer": "ipython3",
   "version": "3.7.3"
  }
 },
 "nbformat": 4,
 "nbformat_minor": 4
}
