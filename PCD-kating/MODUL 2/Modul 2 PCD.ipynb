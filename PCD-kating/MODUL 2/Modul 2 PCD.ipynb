{
 "cells": [
  {
   "cell_type": "code",
   "execution_count": 146,
   "metadata": {},
   "outputs": [],
   "source": [
    "import numpy as np"
   ]
  },
  {
   "cell_type": "markdown",
   "metadata": {},
   "source": [
    "Code di atas berfungsi untuk memanggil import numpy yang diinisialkan dengan np."
   ]
  },
  {
   "cell_type": "code",
   "execution_count": 147,
   "metadata": {},
   "outputs": [
    {
     "name": "stdout",
     "output_type": "stream",
     "text": [
      "[[4 7 1]\n",
      " [2 1 3]\n",
      " [3 0 0]]\n",
      "[[0. 0. 0.]\n",
      " [0. 0. 0.]\n",
      " [0. 0. 0.]]\n"
     ]
    }
   ],
   "source": [
    "c=np.array([[4,7,1],[2,1,3],[3,0,0]])\n",
    "a=np.zeros(c.shape)\n",
    "print(c)\n",
    "print(a)"
   ]
  },
  {
   "cell_type": "markdown",
   "metadata": {},
   "source": [
    "Code \"c=np.array([[4,7,1],[2,1,3],[3,0,0]])\" digunakan untuk menyimpan nilai matriks dengan ordo 3x3 yang nilainya telah ditentukan dan disimpan dalam variabel c. Code \"a=np.zeros(c.shape)\" digunkan untuk membuat matriks dengan ordo yang sama dengan variabel c dan memiliki nilai 0 semua. Perintah print berfungsi untuk menampilkan nilai dari variabel c dan a."
   ]
  },
  {
   "cell_type": "code",
   "execution_count": 148,
   "metadata": {},
   "outputs": [
    {
     "name": "stdout",
     "output_type": "stream",
     "text": [
      "[[1. 3. 0.]\n",
      " [7. 1. 0.]\n",
      " [4. 2. 3.]]\n"
     ]
    }
   ],
   "source": [
    "r=np.deg2rad(90)\n",
    "cosR=(np.floor(np.cos(r)))\n",
    "sinR=(np.floor(np.sin(r)))\n",
    "for x in range (3):\n",
    "    for y in range (3):\n",
    "        x2=cosR*(x-1)-sinR*(y-1)+1\n",
    "        y2=sinR*(x-1)+cosR*(y-1)+1\n",
    "        a[int(x2)][int(y2)]=c[x][y]\n",
    "print(a)"
   ]
  },
  {
   "cell_type": "markdown",
   "metadata": {},
   "source": [
    "Code \"r=np.deg2rad(90)\" berfungsi untuk mengubah nilai derajat 90 menjadi radian. Code \"cosR=(np.floor(np.cos(r)))\" berfungsi untuk mengambil nilai cos dari radian dan nilainya dibulatkan ke bawah. Code \"sinR=(np.floor(np.sin(r)))\" berfungsi untuk mengambil nilai sin dari radian dan nilainya dibulatkan ke bawah. Code \"for x in range (3):\" dan \"for y in range (3):\" digunakan untuk membuat perulangan matriks dengan ordo yang ditentukan. Code \"x2=cosR*(x-1)-sinR*(y-1)+1\", \"y2=sinR*(x-1)+cosR*(y-1)+1\", dan \"a[int(x2)][int(y2)]=c[x][y]\" merupakan code yang digunakan untuk menghitung rotasi dari matriks c. Perintah print digunakan untuk menampilkan hasil rotasi matriks c."
   ]
  },
  {
   "cell_type": "code",
   "execution_count": 149,
   "metadata": {},
   "outputs": [
    {
     "name": "stdout",
     "output_type": "stream",
     "text": [
      "[[1. 3. 0.]\n",
      " [7. 4. 7.]\n",
      " [4. 2. 1.]]\n"
     ]
    }
   ],
   "source": [
    "for x in range (3):\n",
    "    for y in range (3):\n",
    "        x2=x+1\n",
    "        y2=y+1\n",
    "        if x2<3:\n",
    "            if y2<3:\n",
    "                a[x2][y2]=c[x][y]\n",
    "print (a)"
   ]
  },
  {
   "cell_type": "markdown",
   "metadata": {},
   "source": [
    "Code \"for x in range (3):\" dan \"for y in range (3):\" digunakan untuk membuat perulangan matriks dengan ordo yang ditentukan. Code \"x2=x+1\" dan \"y2=y+1\" digunakan untuk menyatakan bahwa pergeseran sumbu x dan sumbu y masing-masing ditambahkan dengan 1. Code \"if x2<3:\" dan \"if y2<3:\" merupakan sebuah kondisi yang dimana jika kondisi itu sesuai, maka akan melanjutkan ke proses selanjutnya yaitu \"a[x2][y2]=c[x][y]\" yang dimana a merupakan variabel hasil translasi. Perintah print digunakan untuk menampilkan hasil dari translasi yang terdapat dalam variabel a."
   ]
  },
  {
   "cell_type": "code",
   "execution_count": 150,
   "metadata": {},
   "outputs": [
    {
     "name": "stdout",
     "output_type": "stream",
     "text": [
      "[[4. 4. 7. 7. 1. 1.]\n",
      " [4. 4. 7. 7. 1. 1.]\n",
      " [2. 2. 1. 1. 3. 3.]\n",
      " [2. 2. 1. 1. 3. 3.]\n",
      " [3. 3. 0. 0. 0. 0.]\n",
      " [3. 3. 0. 0. 0. 0.]]\n"
     ]
    }
   ],
   "source": [
    "d=np.zeros((6,6))\n",
    "for x in range (3):\n",
    "    for y in range (3):\n",
    "        for i in range (2):\n",
    "            for j in range (2):\n",
    "                d[x*2][y*2]=c[x][y]\n",
    "                d[x*2][y*2+1]=c[x][y]\n",
    "                d[x*2+1][y*2]=c[x][y]\n",
    "                d[x*2+1][y*2+1]=c[x][y]\n",
    "print(d)"
   ]
  },
  {
   "cell_type": "markdown",
   "metadata": {},
   "source": [
    "Code \"d=np.zeros((6,6))\" digunkan untuk membuat matriks dengan ordo 6x6 dan memiliki nilai 0 semua. Code \"for x in range (3):\" dan \"for y in range (3):\" digunakan untuk membuat perulangan matriks dengan ordo yang ditentukan. Code \"for i in range (2):\" dan \"for j in range (2):\" digunakan untuk membuat perulangan matriks dengan ordo yang ditentukan, dimana kedua code ini merupakan perulangan yang digunakan untuk proses dilatasi di dalam matriks 3x3 yang sebelumnya dibuat. Code \"d[x*2][y*2]=c[x][y]\", \"d[x*2][y*2+1]=c[x][y]\", \"d[x*2+1][y*2]=c[x][y]\", dan \"d[x*2+1][y*2+1]=c[x][y]\" merupakan penyalinan setiap pixel sebanyak 4 kali, jadi cita 3x3 menjadi 6x6 pixel. Perintah print digunakan untuk menampilkan hasil dari dilatasi."
   ]
  },
  {
   "cell_type": "code",
   "execution_count": 151,
   "metadata": {},
   "outputs": [
    {
     "name": "stdout",
     "output_type": "stream",
     "text": [
      "[[1. 7. 4.]\n",
      " [3. 1. 2.]\n",
      " [0. 0. 3.]]\n"
     ]
    }
   ],
   "source": [
    "m=2\n",
    "n=2\n",
    "for x in range (3):\n",
    "    for y in range (3):\n",
    "        a[x][y]=c[x][m-y]\n",
    "print(a)"
   ]
  },
  {
   "cell_type": "markdown",
   "metadata": {},
   "source": [
    "Code \"m=2\" dan \"n=2\" digunakan untuk memberikan nilai variabel m dan n dengan nilai 2. Code \"for x in range (3):\" dan \"for y in range (3):\" digunakan untuk membuat perulangan matriks dengan ordo yang ditentukan. Code \"a[x][y]=c[x][m-y]\" digunakan untuk proses pencerminan terhadap sumbu x. Perintah print digunakan untuk menampilkan nilai pencerminan matriks c."
   ]
  }
 ],
 "metadata": {
  "kernelspec": {
   "display_name": "Python 3",
   "language": "python",
   "name": "python3"
  },
  "language_info": {
   "codemirror_mode": {
    "name": "ipython",
    "version": 3
   },
   "file_extension": ".py",
   "mimetype": "text/x-python",
   "name": "python",
   "nbconvert_exporter": "python",
   "pygments_lexer": "ipython3",
   "version": "3.7.3"
  }
 },
 "nbformat": 4,
 "nbformat_minor": 4
}
