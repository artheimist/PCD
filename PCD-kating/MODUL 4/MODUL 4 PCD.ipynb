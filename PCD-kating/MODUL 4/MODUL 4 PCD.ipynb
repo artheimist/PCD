{
 "cells": [
  {
   "cell_type": "code",
   "execution_count": 1,
   "metadata": {},
   "outputs": [],
   "source": [
    "import numpy as np"
   ]
  },
  {
   "cell_type": "markdown",
   "metadata": {},
   "source": [
    "berfungsi sebagai library untuk untuk mengolah operasi matematika "
   ]
  },
  {
   "cell_type": "code",
   "execution_count": 2,
   "metadata": {},
   "outputs": [],
   "source": [
    "Array = np.array([[19,141,86,70],\n",
    "                 [100,148,85,251],\n",
    "                 [7,75,173,173],\n",
    "                 [246,165,8,221],])"
   ]
  },
  {
   "cell_type": "markdown",
   "metadata": {},
   "source": [
    "berfungsi untuk membuat array yang akan diolah"
   ]
  },
  {
   "cell_type": "code",
   "execution_count": 3,
   "metadata": {},
   "outputs": [],
   "source": [
    "low1 = [0.7,0.7]\n",
    "high1 = [-0.7,0.7]"
   ]
  },
  {
   "cell_type": "markdown",
   "metadata": {},
   "source": [
    "berfungsi untuk membuat array kernel low dan high dari soal A"
   ]
  },
  {
   "cell_type": "code",
   "execution_count": 4,
   "metadata": {},
   "outputs": [],
   "source": [
    "low2 = [-0.1,0.2,0.8,0.4]\n",
    "high2 = [-0.4,0.8,-0.2,-0.1]"
   ]
  },
  {
   "cell_type": "markdown",
   "metadata": {},
   "source": [
    "berfungsi untuk membuat array kernel low dan high dari soal B"
   ]
  },
  {
   "cell_type": "code",
   "execution_count": 5,
   "metadata": {},
   "outputs": [],
   "source": [
    "low3 = [0.03,-0.08,-0.1,0.45,0.8,0.33]\n",
    "high3 = [-0.33,0.81,-0.46,-0.14,0.09,0.04]"
   ]
  },
  {
   "cell_type": "markdown",
   "metadata": {},
   "source": [
    "berfungsi untuk membuat array kernel low dan high dari soal C"
   ]
  },
  {
   "cell_type": "code",
   "execution_count": 6,
   "metadata": {},
   "outputs": [],
   "source": [
    "low4 = [-0.01,0.03,0.03,-0.19,0.02,0.63,0.71,0.23]\n",
    "high4 = [-0.23,0.71,-0.63,-0.03,0.19,0.03,-0.03,-0.01]"
   ]
  },
  {
   "cell_type": "markdown",
   "metadata": {},
   "source": [
    "berfungsi untuk membuat array kernel low dan high dari soal D"
   ]
  },
  {
   "cell_type": "code",
   "execution_count": 7,
   "metadata": {},
   "outputs": [],
   "source": [
    "def padding (data,bnyk):\n",
    "    pad1=np.pad(data,(0,bnyk),'constant')\n",
    "    return pad1"
   ]
  },
  {
   "cell_type": "markdown",
   "metadata": {},
   "source": [
    "fungsi di atas berfungsi untuk menambahkan padding untuk pengolahan konvolusi yang akan dilakukan, padding yang akan dibuat sesuai dengan kebutuhan yang dibutuhkan. Pada kode di atas merupakan sebuah library yang dari numpy yang di sediakan untuk menambah padding dimana \"(0,bnyk)\" bnyk di sini padding sesuai dengan kebutuhan yang di butuhkan."
   ]
  },
  {
   "cell_type": "code",
   "execution_count": 8,
   "metadata": {},
   "outputs": [],
   "source": [
    "def mencarih0(pad, kernel):\n",
    "    zeros = np.zeros([4,4])\n",
    "    for v in range (len(zeros)):\n",
    "        for w in range (len(zeros)):\n",
    "            for i in range(len(kernel)):\n",
    "                zeros[v][w] += (kernel[i]*pad[v][w+i])\n",
    "    return zeros"
   ]
  },
  {
   "cell_type": "markdown",
   "metadata": {},
   "source": [
    "fungsi di atas berfungsi untuk mencari nilai pada konvolusi ke 0 atau h0, pada fungsi ini akan diolah data sesuai dengan kebutuhan yang akan diolah, pada data yang akan dikirim adalah data yang sudah diberikan padding untuk sebagai variable bantu, yang akan dikirim kedua adalah kernel yang akan diolah, entah itu kernel low atau kernel high yang di butuhkan. setelah di kirim maka akan diproses oleh program, kemudian akan di tentukan index pusat yang dimana index akan diisikan dengan data hasil kali antar data baris arraynya dengan kernelnya. kemudian di lakukan sampai semua index sudah sebagai pusat pengolahan dan mendapatkan semua data."
   ]
  },
  {
   "cell_type": "code",
   "execution_count": 9,
   "metadata": {},
   "outputs": [],
   "source": [
    "def seleckl (data):\n",
    "    tmp=np.zeros((4,2))\n",
    "    for v in range (4):\n",
    "        for w in range (2):\n",
    "            tmp[v,w]=data[v,w*2]\n",
    "    return tmp"
   ]
  },
  {
   "cell_type": "markdown",
   "metadata": {},
   "source": [
    "pada fungsi di atas akan diolah data hasil konvolusi yang, pengolah di sini akan menyeleksi kolom yang akan diambil, kolom yang akan diambil adalah kolom yang bernilai genap, sehingga menghasilkan matriks 4x2."
   ]
  },
  {
   "cell_type": "code",
   "execution_count": 10,
   "metadata": {},
   "outputs": [],
   "source": [
    "def padbawah (data):\n",
    "    pad2=np.pad(data,(0,4),'constant')\n",
    "    return pad2"
   ]
  },
  {
   "cell_type": "code",
   "execution_count": 11,
   "metadata": {},
   "outputs": [],
   "source": [
    "def transpos (kernel):\n",
    "    zh=np.zeros((len(kernel),1))\n",
    "    for i in range (len(kernel)):\n",
    "        for j in range (1):\n",
    "            zh[i][j]=kernel[i]\n",
    "    return zh"
   ]
  },
  {
   "cell_type": "markdown",
   "metadata": {},
   "source": [
    "fungsi di atas befungsi sebagai pengolah transpose dari data atau array kernel sesuai dengan kebutuhan, yang dimana yang semula baris menjadi kolom, yang semula kolom menjadi baris."
   ]
  },
  {
   "cell_type": "code",
   "execution_count": 12,
   "metadata": {},
   "outputs": [],
   "source": [
    "def mencarih1(kernel,pad):\n",
    "    tmp1=np.zeros((4,2))\n",
    "    for v in range (4):\n",
    "        for w in range (2):\n",
    "            for j in range(len(kernel)):\n",
    "                tmp1[v][w] += (kernel[j]*pad[j+v][w])\n",
    "    return tmp1"
   ]
  },
  {
   "cell_type": "markdown",
   "metadata": {},
   "source": [
    "fungsi di atas berfungsi untuk mencari nilai pada konvolusi ke 1 atau h1, pada fungsi ini akan diolah data sesuai dengan kebutuhan yang akan diolah, pada data di sini yang akan dikirim adalah data yang sudah diberikan sudah dikonvolusi h0 dan sudah diberikan padding sesuai dengan kebutuhan untuk sebagai veriable bantu yang akan dikirim kedua adalah kernel yang akan diolah, yang mana adalah kernel yang sudah ditranspose, sesuai dengan kebutuhan low atau high. setelah dikirim maka akan di proses oleh program, kemudian akan di tentukan index pusat yang dimana index ini akan diisikan dengan data hasil kali antar data kolom arraynya dengan kernelnya. kemudian dilakukan sampai semua index sudah sebagai pusat pengolahan dan mendapatklan semua data."
   ]
  },
  {
   "cell_type": "code",
   "execution_count": 13,
   "metadata": {},
   "outputs": [],
   "source": [
    "def selecbr(data):\n",
    "    tmp2=np.zeros((2,2))\n",
    "    for v in range (2):\n",
    "        for w in range (2):\n",
    "            tmp2[v,w]=data[v*2,w]\n",
    "    return tmp2"
   ]
  },
  {
   "cell_type": "markdown",
   "metadata": {},
   "source": [
    "pada fungsi di atas akan diolah data hasil konvolusi yang, pengolah disini akan menyeleksi baris yang akan diambil, baris yang akan diambil adalah kolom yang bernilai genap, sehingga menghasilkan matriks 2x2."
   ]
  },
  {
   "cell_type": "code",
   "execution_count": 14,
   "metadata": {},
   "outputs": [],
   "source": [
    "def finis(ll,hl,lh,hh):\n",
    "    b1=np.concatenate((ll,hl),axis=1)\n",
    "    b2=np.concatenate((lh,hh),axis=1)\n",
    "    return np.concatenate((b1,b2),axis=0)"
   ]
  },
  {
   "cell_type": "markdown",
   "metadata": {},
   "source": [
    "fungsi di atas berfungsi untuk menggabungkan semua LL,LH,HL,LL yang sudah di hitung dengan fungsi library numpy \"concatenate\""
   ]
  },
  {
   "cell_type": "markdown",
   "metadata": {},
   "source": [
    "## Jurnal 2"
   ]
  },
  {
   "cell_type": "code",
   "execution_count": 15,
   "metadata": {},
   "outputs": [
    {
     "output_type": "stream",
     "name": "stdout",
     "text": [
      "[[244.09  39.  ]\n [ -1.55   6.95]]\n"
     ]
    }
   ],
   "source": [
    "pad=padding(Array,4)\n",
    "kv0=mencarih0(pad, low2)\n",
    "pad_bw=seleckl(kv0)\n",
    "hasilT=transpos(low2)\n",
    "pad2=padding(pad_bw,4)\n",
    "data=mencarih1(hasilT,pad2)\n",
    "LL2=selecbr(data)\n",
    "print (LL2)"
   ]
  },
  {
   "cell_type": "markdown",
   "metadata": {},
   "source": [
    "pada code di atas adalah untuk menghitung LL terlebih dahulu yang mana di atas pertama akan nencari konvolusi 0 dengan fungsi \"mencarih0\" kemudian menyeleksi data hasil konvolusi 0 yang genap saja dengan fungsi \"seleckl\" kemudian mentranspose kernel yang akan di kirim dengan fungsi \"transpos\" kemudian hasil seleksi tadi di berikan padding sebagi varible bantu dengan fungsi \"padding\" dan kemudia hasil padding dan hasil transpos di oleh dengan fungsi konvolusi 1 \"mencarih1\" stelah itu baru di seleksi baris matriknya setelah itu di tampung di varibel LL"
   ]
  },
  {
   "cell_type": "code",
   "execution_count": 16,
   "metadata": {},
   "outputs": [
    {
     "output_type": "stream",
     "name": "stdout",
     "text": [
      "[[  7.36 156.  ]\n [  1.45  27.8 ]]\n"
     ]
    }
   ],
   "source": [
    "pad=padding(Array,4)\n",
    "kv0=mencarih0(pad, high2)\n",
    "pad_bw=seleckl(kv0)\n",
    "hasilT=transpos(low2)\n",
    "pad2=padding(pad_bw,4)\n",
    "data=mencarih1(hasilT,pad2)\n",
    "HL2=selecbr(data)\n",
    "print (HL2)"
   ]
  },
  {
   "cell_type": "markdown",
   "metadata": {},
   "source": [
    "pada code di atas adalah untuk menghitung HL terlebih dahulu yang mana di atas pertama akan nencari konvolusi 0 dengan fungsi \"mencarih0\" kemudian menyeleksi data hasil konvolusi 0 yang genap saja dengan fungsi \"seleckl\" kemudian mentranspost kernel yang akan dikirim dengan fungsi \"transpos\" kemudian hasil seleksi tadi di berikan padding sebagai variable bantu dengan fungsi \"padding\" dan kemudian hasil padding dan hasil transpose di oleh dengan fungsi konvolusi 1 \"mencarih1\" stelah itu baru di seleksi baris matriknya setelah itu di tampung di varibel HL."
   ]
  },
  {
   "cell_type": "code",
   "execution_count": 17,
   "metadata": {},
   "outputs": [
    {
     "output_type": "stream",
     "name": "stdout",
     "text": [
      "[[46.46 23.4 ]\n [-6.2  27.8 ]]\n"
     ]
    }
   ],
   "source": [
    "kv0=mencarih0(pad, low2)\n",
    "pad_bw=seleckl(kv0)\n",
    "hasilT=transpos(high2)\n",
    "pad2=padding(pad_bw,4)\n",
    "data=mencarih1(hasilT,pad2)\n",
    "LH2=selecbr(data)\n",
    "print (LH2)"
   ]
  },
  {
   "cell_type": "markdown",
   "metadata": {},
   "source": [
    "pada code di atas adalah untuk menghitung LH terlebih dahulu yang mana di atas pertama akan nencari konvolusi 0 dengan fungsi \"mencarih0\" kemudian menyeleksi data hasil konvolusi 0 yang genap saja dengan fungsi \"seleckl\" kemudian mentranspose kernel yang akan di kirim dengan fungsi \"transpos\" kemudian hasil seleksi tadi di berikan padding sebagai variable bantu dengan fungsi \"padding\" dan kemudian hasil padding dan hasil transpos di oleh dengan fungsi konvolusi 1 \"mencarih1\" stelah itu baru di seleksi baris matriknya setelah itu di tampung di varibel LH."
   ]
  },
  {
   "cell_type": "code",
   "execution_count": 18,
   "metadata": {},
   "outputs": [
    {
     "output_type": "stream",
     "name": "stdout",
     "text": [
      "[[ -5.41  93.6 ]\n [  5.8  111.2 ]]\n"
     ]
    }
   ],
   "source": [
    "kv0=mencarih0(pad, high2)\n",
    "pad_bw=seleckl(kv0)\n",
    "hasilT=transpos(high2)\n",
    "pad2=padding(pad_bw,4)\n",
    "data=mencarih1(hasilT,pad2)\n",
    "HH2=selecbr(data)\n",
    "print (HH2)"
   ]
  },
  {
   "cell_type": "raw",
   "metadata": {},
   "source": [
    "pada code di atas adalah untuk menghitung HH terlebih dahulu yang mana di atas pertama akan nencari konvolusi 0 dengan fungsi \"mencarih0\" kemudian menyeleksi data hasil konvolusi 0 yang genap saja dengan fungsi \"seleckl\" kemudian mentranspost kernel yang akan dikirim dengan fungsi \"transpos\" kemudian hasil seleksi tadi di berikan padding sebagai variable bantu dengan fungsi \"padding\" dan kemudian hasil padding dan hasil transpos di oleh dengan fungsi konvolusi 1 \"mencarih1\" stelah itu baru di seleksi baris matriknya setelah itu di tampung di varibel HH"
   ]
  },
  {
   "cell_type": "code",
   "execution_count": 19,
   "metadata": {},
   "outputs": [
    {
     "output_type": "execute_result",
     "data": {
      "text/plain": [
       "array([[244.09,  39.  ,   7.36, 156.  ],\n",
       "       [ -1.55,   6.95,   1.45,  27.8 ],\n",
       "       [ 46.46,  23.4 ,  -5.41,  93.6 ],\n",
       "       [ -6.2 ,  27.8 ,   5.8 , 111.2 ]])"
      ]
     },
     "metadata": {},
     "execution_count": 19
    }
   ],
   "source": [
    "finis(LL2,HL2,LH2,HH2)"
   ]
  },
  {
   "cell_type": "markdown",
   "metadata": {},
   "source": [
    "code di atas berfungsi untuk menyatukan data yang LL,HL,LH,HH yang sudah di dapatkan menjadi 1 buah matriks yang utuh sehingga menghasilkan matriks 4x4 seperti gambar di atas, adapun bentuk data itu digabungkan sebagai berikut\n",
    "### matrik \n",
    "### LL || HL\n",
    "### ---------\n",
    "### LH || HH"
   ]
  },
  {
   "cell_type": "markdown",
   "metadata": {},
   "source": [
    "## Jurnal 1"
   ]
  },
  {
   "cell_type": "code",
   "execution_count": 20,
   "metadata": {},
   "outputs": [
    {
     "output_type": "stream",
     "name": "stdout",
     "text": [
      "[[199.92 241.08]\n [241.57 281.75]]\n"
     ]
    }
   ],
   "source": [
    "pad=padding(Array,1)\n",
    "kv0=mencarih0( pad, low1)\n",
    "pad_bw=seleckl(kv0)\n",
    "hasilT=transpos(low1)\n",
    "pad2=padding(pad_bw,1)\n",
    "data=mencarih1(hasilT,pad2)\n",
    "LL1=selecbr(data)\n",
    "print (LL1)"
   ]
  },
  {
   "cell_type": "markdown",
   "metadata": {},
   "source": [
    "pada code di atas adalah untuk menghitung LL terlebih dahulu yang mana di atas pertama akan nencari konvolusi 0 dengan fungsi \"mencarih0\" kemudian menyeleksi data hasil konvolusi 0 yang genap saja dengan fungsi \"seleckl\" kemudian mentranspose kernel yang akan dikirim dengan fungsi \"transpos\" kemudian hasil seleksi tadi di berikan padding sebagai variable bantu dengan fungsi \"padding\" dan kemudian hasil padding dan hasil transpose diolah dengan fungsi konvolusi 1 \"mencarih1\" setelah itu baru di seleksi baris matriknya setelah itu ditampung di variabel LL"
   ]
  },
  {
   "cell_type": "code",
   "execution_count": 21,
   "metadata": {},
   "outputs": [
    {
     "output_type": "stream",
     "name": "stdout",
     "text": [
      "[[ 83.3   73.5 ]\n",
      " [ -6.37 104.37]]\n"
     ]
    }
   ],
   "source": [
    "kv0=mencarih0( pad, high1)\n",
    "pad_bw=seleckl(kv0)\n",
    "hasilT=transpos(low1)\n",
    "pad2=padding(pad_bw,1)\n",
    "data=mencarih1(hasilT,pad2)\n",
    "HL1=selecbr(data)\n",
    "print (HL1)"
   ]
  },
  {
   "cell_type": "markdown",
   "metadata": {},
   "source": [
    "pada code di atas untuk menghitung HL terlebih dahulu yang mana di atas pertama akan nencari konvolusi 0 dengan fungsi \"mencarih0\" kemudian menyeleksi data hasil konvolusi 0 yang genap saja dengan fungsi \"seleckl\" kemudian mentranspose kernel yang akan di kirim dengan fungsi \"transpos\" kemudian hasil seleksi tadi di berikan padding sebagi variable bantu dengan fungsi \"padding\" dan kemudian hasil padding dan hasil transpose diolah dengan fungsi konvolusi 1 \"mencarih1\" setelah itu baru di seleksi baris matriknya setelah itu ditampung di variabel HL"
   ]
  },
  {
   "cell_type": "code",
   "execution_count": 22,
   "metadata": {},
   "outputs": [
    {
     "output_type": "stream",
     "name": "stdout",
     "text": [
      "[[ 43.12  88.2 ]\n",
      " [161.21 -57.33]]\n"
     ]
    }
   ],
   "source": [
    "kv0=mencarih0( pad, low1)\n",
    "pad_bw=seleckl(kv0)\n",
    "hasilT=transpos(high1)\n",
    "pad2=padding(pad_bw,1)\n",
    "data=mencarih1(hasilT,pad2)\n",
    "LH1=selecbr(data)\n",
    "print (LH1)"
   ]
  },
  {
   "cell_type": "markdown",
   "metadata": {},
   "source": [
    "pada code di atas untuk menghitung LH Terlebih dahulu yang mana di atas pertama akan nencari konvolusi 0 dengan fungsi \"mencarih0\" kemudian menyeleksi data hasil konvolusi 0 yang genap saja dengan fungsi \"seleckl\" kemudian mentranspose kernel yang akan di kirim dengan fungsi \"transpos\" kemudian hasil seleksi tadi di berikan padding sebagi varible bantu dengan fungsi \"padding\" dan kemudian hasil padding dan hasil transpose diolah dengan fungsi konvolusi 1 \"mencarih1\" setelah itu baru di seleksi baris matriknya setelah itu ditampung di varibel LH"
   ]
  },
  {
   "cell_type": "code",
   "execution_count": 23,
   "metadata": {},
   "outputs": [
    {
     "output_type": "stream",
     "name": "stdout",
     "text": [
      "[[-36.26  89.18]\n",
      " [-73.01 104.37]]\n"
     ]
    }
   ],
   "source": [
    "kv0=mencarih0( pad, high1)\n",
    "pad_bw=seleckl(kv0)\n",
    "hasilT=transpos(high1)\n",
    "pad2=padding(pad_bw,1)\n",
    "data=mencarih1(hasilT,pad2)\n",
    "HH1=selecbr(data)\n",
    "print (HH1)"
   ]
  },
  {
   "cell_type": "raw",
   "metadata": {},
   "source": [
    "pada code di atas untuk menghitung HH terlebih dahulu yang mana di atas pertama akan nencari konvolusi 0 dengan fungsi \"mencarih0\" kemudian menyeleksi data hasil konvolusi 0 yang genap saja dengan fungsi \"seleckl\" kemudian mentranspose kernel yang akan di kirim dengan fungsi \"transpos\" kemudian hasil seleksi tadi di berikan padding sebagi varible bantu dengan fungsi \"padding\" dan kemudian hasil padding dan hasil transpose diolah dengan fungsi konvolusi 1 \"mencarih1\" stelah itu baru di seleksi baris matriknya setelah itu ditampung di varibel HH"
   ]
  },
  {
   "cell_type": "code",
   "execution_count": 24,
   "metadata": {},
   "outputs": [
    {
     "output_type": "execute_result",
     "data": {
      "text/plain": [
       "array([[199.92, 241.08,  83.3 ,  73.5 ],\n",
       "       [241.57, 281.75,  -6.37, 104.37],\n",
       "       [ 43.12,  88.2 , -36.26,  89.18],\n",
       "       [161.21, -57.33, -73.01, 104.37]])"
      ]
     },
     "metadata": {},
     "execution_count": 24
    }
   ],
   "source": [
    "finis (LL1,HL1,LH1,HH1)"
   ]
  },
  {
   "cell_type": "markdown",
   "metadata": {},
   "source": [
    "code di atas berfungsi untuk menyatukan data yang LL,HL,LH,HH yang sudah di dapatkan menjadi 1 buah matrik yang utuh sehingga menghasilkan matirk 4x4 seperti gambar di atas, adapun bentuk data itu di gabungkan sebagai berikut.\n",
    "### matrik \n",
    "### LL || HL\n",
    "### ---------\n",
    "### LH || HH"
   ]
  },
  {
   "cell_type": "markdown",
   "metadata": {},
   "source": [
    "## Jurnal3"
   ]
  },
  {
   "cell_type": "code",
   "execution_count": 25,
   "metadata": {},
   "outputs": [
    {
     "output_type": "stream",
     "name": "stdout",
     "text": [
      "[[29.0144 -5.6712]\n",
      " [-5.7836  1.1357]]\n"
     ]
    }
   ],
   "source": [
    "pad=padding(Array,9)\n",
    "kv0=mencarih0( pad, low3)\n",
    "pad_bw=seleckl(kv0)\n",
    "hasilT=transpos(low3)\n",
    "pad2=padding(pad_bw,9)\n",
    "data=mencarih1(hasilT,pad2)\n",
    "LL3=selecbr(data)\n",
    "print (LL3)"
   ]
  },
  {
   "cell_type": "markdown",
   "metadata": {},
   "source": [
    "pada code di atas untuk menghitung LL terlebih dahulu yang mana di atas pertama akan nencari konvolusi 0 dengan fungsi \"mencarih0\" kemudian menyeleksi data hasil konvolusi 0 yang genap saja dengan fungsi \"seleckl\" kemudian mentranspose kernel yang akan di kirim dengan fungsi \"transpos\" kemudian hasil seleksi tadi di berikan padding sebagi varible bantu dengan fungsi \"padding\" dan kemudian hasil padding dan hasil transpose diolah dengan fungsi konvolusi 1 \"mencarih1\" stelah itu baru di seleksi baris matriknya setelah itu ditampung di varibel LL"
   ]
  },
  {
   "cell_type": "code",
   "execution_count": 26,
   "metadata": {},
   "outputs": [
    {
     "output_type": "stream",
     "name": "stdout",
     "text": [
      "[[ 13.3147  57.8913]\n [ -2.7888 -11.6184]]\n"
     ]
    }
   ],
   "source": [
    "kv0=mencarih0( pad, high3)\n",
    "pad_bw=seleckl(kv0)\n",
    "hasilT=transpos(low3)\n",
    "pad2=padding(pad_bw,9)\n",
    "data=mencarih1(hasilT,pad2)\n",
    "HL3=selecbr(data)\n",
    "print (HL3)"
   ]
  },
  {
   "cell_type": "markdown",
   "metadata": {},
   "source": [
    "pada code di atas untuk menghitung HL Terlebih dahulu yang mana di atas pertama akan mencari konvolusi 0 dengan fungsi \"mencarih0\" kemudian menyeleksi data hasil konvolusi 0 yang genap saja dengan fungsi \"seleckl\" kemudian mentranspose kernel yang akan di kirim dengan fungsi \"transpos\" kemudian hasil seleksi tadi di berikan padding sebagai variable bantu dengan fungsi \"padding\" dan kemudian hasil padding dan hasil transpos diolah dengan fungsi konvolusi 1 \"mencarih1\" stelah itu baru di seleksi baris matriknya setelah itu ditampung di variabel HL"
   ]
  },
  {
   "cell_type": "code",
   "execution_count": 27,
   "metadata": {},
   "outputs": [
    {
     "output_type": "stream",
     "name": "stdout",
     "text": [
      "[[ 35.2356  -6.7821]\n [ 57.1215 -11.2719]]\n"
     ]
    }
   ],
   "source": [
    "kv0=mencarih0( pad, low3)\n",
    "pad_bw=seleckl(kv0)\n",
    "hasilT=transpos(high3)\n",
    "pad2=padding(pad_bw,9)\n",
    "data=mencarih1(hasilT,pad2)\n",
    "LH3=selecbr(data)\n",
    "print (LH3)"
   ]
  },
  {
   "cell_type": "markdown",
   "metadata": {},
   "source": [
    "pada code di atas untuk menghitung LH Terlebih dahulu yang mana di atas pertama akan nencari konvolusi 0 dengan fungsi \"mencarih0\" kemudian menyeleksi data hasil konvolusi 0 yang genap saja dengan fungsi \"seleckl\" kemudian mentranspos kernel yang akan di kirim dengan fungsi \"transpos\" kemudian hasil seleksi tadi di berikan padding sebagai variable bantu dengan fungsi \"padding\" dan kemudian hasil padding dan hasil transpos diolah dengan fungsi konvolusi 1 \"mencarih1\" setelah itu baru di seleksi baris matriknya setelah itu ditampung di varibel LH"
   ]
  },
  {
   "cell_type": "code",
   "execution_count": 28,
   "metadata": {},
   "outputs": [
    {
     "output_type": "stream",
     "name": "stdout",
     "text": [
      "[[  9.2736  69.7248]\n [ 29.4273 115.4565]]\n"
     ]
    }
   ],
   "source": [
    "kv0=mencarih0( pad, high3)\n",
    "pad_bw=seleckl(kv0)\n",
    "hasilT=transpos(high3)\n",
    "pad2=padding(pad_bw,9)\n",
    "data=mencarih1(hasilT,pad2)\n",
    "HH3=selecbr(data)\n",
    "print (HH3)"
   ]
  },
  {
   "cell_type": "raw",
   "metadata": {},
   "source": [
    "pada code di atas untuk menghitung HH Terlebih dahulu yang mana di atas pertama akan nencari konvolusi 0 dengan fungsi \"mencarih0\" kemudian menyeleksi data hasil konvolusi 0 yang genap saja dengan fungsi \"seleckl\" kemudian mentranspost kernel yang akan di kirim dengan fungsi \"transpos\" kemudian hasil seleksi tadi di berikan padding sebagi varible bantu dengan fungsi \"padding\" dan kemudia hasil padding dan hasil transpose diolah dengan fungsi konvolusi 1 \"mencarih1\" stelah itu baru di seleksi baris matriknya setelah itu ditampung di variabel HH"
   ]
  },
  {
   "cell_type": "code",
   "execution_count": 29,
   "metadata": {},
   "outputs": [
    {
     "output_type": "execute_result",
     "data": {
      "text/plain": [
       "array([[ 29.0144,  -5.6712,  13.3147,  57.8913],\n",
       "       [ -5.7836,   1.1357,  -2.7888, -11.6184],\n",
       "       [ 35.2356,  -6.7821,   9.2736,  69.7248],\n",
       "       [ 57.1215, -11.2719,  29.4273, 115.4565]])"
      ]
     },
     "metadata": {},
     "execution_count": 29
    }
   ],
   "source": [
    "finis (LL3,HL3,LH3,HH3)"
   ]
  },
  {
   "cell_type": "markdown",
   "metadata": {},
   "source": [
    "code di atas berfungsi untuk menyatukan data yang LL,HL,LH,HH yang sudah di dapatkan menjadi 1 buah matrik yang utuh sehingga menghasilkan matirk 4x4 seperti gambar di atas, adapun bentuk data itu di gabungkan sebagai berikut.\n",
    "### matrik \n",
    "### LL || HL\n",
    "### ---------\n",
    "### LH || HH"
   ]
  },
  {
   "cell_type": "markdown",
   "metadata": {},
   "source": [
    "## Jurnal 4"
   ]
  },
  {
   "cell_type": "code",
   "execution_count": 30,
   "metadata": {},
   "outputs": [
    {
     "output_type": "stream",
     "name": "stdout",
     "text": [
      "[[ 5.5102 -0.9527]\n",
      " [-0.9228  0.1619]]\n"
     ]
    }
   ],
   "source": [
    "pad=padding(Array,11)\n",
    "kv0=mencarih0( pad, low4)\n",
    "pad_bw=seleckl(kv0)\n",
    "hasilT=transpos(low4)\n",
    "pad2=padding(pad_bw,11)\n",
    "data=mencarih1(hasilT,pad2)\n",
    "LL4=selecbr(data)\n",
    "print (LL4)"
   ]
  },
  {
   "cell_type": "markdown",
   "metadata": {},
   "source": [
    "pada code di atas untuk menghitung LL Terlebih dahulu yang mana di atas pertama akan nencari konvolusi 0 dengan fungsi \"mencarih0\" kemudian menyeleksi data hasil konvolusi 0 yang genap saja dengan fungsi \"seleckl\" kemudian mentranspose kernel yang akan di kirim dengan fungsi \"transpos\" kemudian hasil seleksi tadi di berikan padding sebagai variable bantu dengan fungsi \"padding\" dan kemudia hasil padding dan hasil transpos di oleh dengan fungsi konvolusi 1 \"mencarih1\" stelah itu baru di seleksi baris matriknya setelah itu di tampung di variabel LL"
   ]
  },
  {
   "cell_type": "code",
   "execution_count": 31,
   "metadata": {},
   "outputs": [
    {
     "output_type": "stream",
     "name": "stdout",
     "text": [
      "[[-10.9318 -22.5115]\n [  2.0924   3.8217]]\n"
     ]
    }
   ],
   "source": [
    "kv0=mencarih0( pad, high4)\n",
    "pad_bw=seleckl(kv0)\n",
    "hasilT=transpos(low4)\n",
    "pad2=padding(pad_bw,11)\n",
    "data=mencarih1(hasilT,pad2)\n",
    "HL4=selecbr(data)\n",
    "print (HL4)"
   ]
  },
  {
   "cell_type": "markdown",
   "metadata": {},
   "source": [
    "pada code di atas untuk menghitung HL Terlebih dahulu yang mana di atas pertama akan nencari konvolusi 0 dengan fungsi \"mencarih0\" kemudian menyeleksi data hasil konvolusi 0 yang genap saja dengan fungsi \"seleckl\" kemudian mentranspose kernel yang akan di kirim dengan fungsi \"transpos\" kemudian hasil seleksi tadi di berikan padding sebagi varible bantu dengan fungsi \"padding\" dan kemudia hasil padding dan hasil transpos di oleh dengan fungsi konvolusi 1 \"mencarih1\" stelah itu baru di seleksi baris matriknya setelah itu di tampung di varibel HL"
   ]
  },
  {
   "cell_type": "code",
   "execution_count": 32,
   "metadata": {},
   "outputs": [
    {
     "output_type": "stream",
     "name": "stdout",
     "text": [
      "[[-10.8278   2.0813]\n",
      " [-22.0096   3.8547]]\n"
     ]
    }
   ],
   "source": [
    "kv0=mencarih0( pad, low4)\n",
    "pad_bw=seleckl(kv0)\n",
    "hasilT=transpos(high4)\n",
    "pad2=padding(pad_bw,11)\n",
    "data=mencarih1(hasilT,pad2)\n",
    "LH4=selecbr(data)\n",
    "print (LH4)"
   ]
  },
  {
   "cell_type": "markdown",
   "metadata": {},
   "source": [
    "pada code di atas untuk menghitung LH Terlebih dahulu yang mana di atas pertama akan nencari konvolusi 0 dengan fungsi \"mencarih0\" kemudian menyeleksi data hasil konvolusi 0 yang genap saja dengan fungsi \"seleckl\" kemudian mentranspose kernel yang akan di kirim dengan fungsi \"transpos\" kemudian hasil seleksi tadi di berikan padding sebagai variable bantu dengan fungsi \"padding\" dan kemudia hasil padding dan hasil transpos di oleh dengan fungsi konvolusi 1 \"mencarih1\" stelah itu baru di seleksi baris matriknya setelah itu di tampung di varibel LH"
   ]
  },
  {
   "cell_type": "code",
   "execution_count": 33,
   "metadata": {},
   "outputs": [
    {
     "output_type": "stream",
     "name": "stdout",
     "text": [
      "[[43.7674 48.7997]\n",
      " [49.1032 91.0005]]\n"
     ]
    }
   ],
   "source": [
    "kv0=mencarih0( pad, high4)\n",
    "pad_bw=seleckl(kv0)\n",
    "hasilT=transpos(high4)\n",
    "pad2=padding(pad_bw,11)\n",
    "data=mencarih1(hasilT,pad2)\n",
    "HH4=selecbr(data)\n",
    "print (HH4)"
   ]
  },
  {
   "cell_type": "raw",
   "metadata": {},
   "source": [
    "pada code di atas untuk menghitung HH Terlebih dahulu yang mana di atas pertama akan nencari konvolusi 0 dengan fungsi \"mencarih0\" kemudian menyeleksi data hasil konvolusi 0 yang genap saja dengan fungsi \"seleckl\" kemudian mentranspose kernel yang akan di kirim dengan fungsi \"transpos\" kemudian hasil seleksi tadi di berikan padding sebagai variable bantu dengan fungsi \"padding\" dan kemudia hasil padding dan hasil transpos di oleh dengan fungsi konvolusi 1 \"mencarih1\" setelah itu baru di seleksi baris matriknya setelah itu di tampung di varibel HH"
   ]
  },
  {
   "cell_type": "code",
   "execution_count": 34,
   "metadata": {},
   "outputs": [
    {
     "output_type": "execute_result",
     "data": {
      "text/plain": [
       "array([[  5.5102,  -0.9527, -10.9318, -22.5115],\n",
       "       [ -0.9228,   0.1619,   2.0924,   3.8217],\n",
       "       [-10.8278,   2.0813,  43.7674,  48.7997],\n",
       "       [-22.0096,   3.8547,  49.1032,  91.0005]])"
      ]
     },
     "metadata": {},
     "execution_count": 34
    }
   ],
   "source": [
    "finis (LL4,HL4,LH4,HH4)"
   ]
  },
  {
   "cell_type": "markdown",
   "metadata": {},
   "source": [
    "code di atas berfungsi untuk menyatukan data yang LL,HL,LH,HH yang sudah di dapatkan menjadi 1 buah matrik yang utuh sehingga menghasilkan matirk 4x4 seperti gambar di atas, adapun bentuk data itu di gabungkan sebagai berikut.\n",
    "### matrik \n",
    "### LL || HL\n",
    "### ---------\n",
    "### LH || HH"
   ]
  }
 ],
 "metadata": {
  "kernelspec": {
   "name": "python3",
   "display_name": "Python 3.9.1 64-bit",
   "metadata": {
    "interpreter": {
     "hash": "44d2aa6db142bddc8cbf1b3458807cd503ff385f78ac153d0d132535245bf6eb"
    }
   }
  },
  "language_info": {
   "codemirror_mode": {
    "name": "ipython",
    "version": 3
   },
   "file_extension": ".py",
   "mimetype": "text/x-python",
   "name": "python",
   "nbconvert_exporter": "python",
   "pygments_lexer": "ipython3",
   "version": "3.9.1-final"
  }
 },
 "nbformat": 4,
 "nbformat_minor": 4
}