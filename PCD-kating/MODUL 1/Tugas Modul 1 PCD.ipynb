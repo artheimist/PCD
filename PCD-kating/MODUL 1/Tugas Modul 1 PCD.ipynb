{
 "cells": [
  {
   "cell_type": "code",
   "execution_count": 2,
   "metadata": {},
   "outputs": [],
   "source": [
    "import numpy as np\n",
    "import matplotlib.pyplot as plt"
   ]
  },
  {
   "cell_type": "markdown",
   "metadata": {},
   "source": [
    "Code di atas digunakan untuk memanggil import numpy dan matplotlib yang akan digunakan dalam program."
   ]
  },
  {
   "cell_type": "code",
   "execution_count": 3,
   "metadata": {},
   "outputs": [],
   "source": [
    "m=np.array([[3,7,7,8,10,12,14,10],\n",
    "   [2,0,0,0,1,8,15,15],\n",
    "   [14,6,5,9,8,10,9,12],\n",
    "   [12,12,11,8,8,10,11,1],\n",
    "   [0,2,3,4,5,13,10,14],\n",
    "   [4,5,0,0,1,0,2,2],\n",
    "   [15,13,11,10,9,9,8,7],\n",
    "   [2,1,0,10,11,14,13,12]])"
   ]
  },
  {
   "cell_type": "markdown",
   "metadata": {},
   "source": [
    "Code diatas digunakan untuk menyimpan matriks dengan orda 8 x 8."
   ]
  },
  {
   "cell_type": "code",
   "execution_count": 20,
   "metadata": {},
   "outputs": [
    {
     "name": "stdout",
     "output_type": "stream",
     "text": [
      "[[ 3  7  7  8 10 12 14 10]\n",
      " [ 2  0  0  0  1  8 15 15]\n",
      " [14  6  5  9  8 10  9 12]\n",
      " [12 12 11  8  8 10 11  1]\n",
      " [ 0  2  3  4  5 13 10 14]\n",
      " [ 4  5  0  0  1  0  2  2]\n",
      " [15 13 11 10  9  9  8  7]\n",
      " [ 2  1  0 10 11 14 13 12]]\n"
     ]
    }
   ],
   "source": [
    "print(m)"
   ]
  },
  {
   "cell_type": "markdown",
   "metadata": {},
   "source": [
    "Digunakan untuk menampilkan nilai yang ada di variabel m."
   ]
  },
  {
   "cell_type": "code",
   "execution_count": 5,
   "metadata": {},
   "outputs": [
    {
     "name": "stdout",
     "output_type": "stream",
     "text": [
      "[0. 0. 0. 0. 0. 0. 0. 0. 0. 0. 0. 0. 0. 0. 0. 0.]\n"
     ]
    }
   ],
   "source": [
    "m2=np.zeros(16)\n",
    "print (m2)"
   ]
  },
  {
   "cell_type": "markdown",
   "metadata": {},
   "source": [
    "Variabel m2 digunakan untuk menampilkan nilai 0 menggunakan np.zeros sebanyak 16 index. Perintah print(m2) digunakan untuk menampilkan niai yang ada pada variabel m2."
   ]
  },
  {
   "cell_type": "code",
   "execution_count": 6,
   "metadata": {},
   "outputs": [
    {
     "name": "stdout",
     "output_type": "stream",
     "text": [
      "[8. 4. 5. 2. 2. 3. 1. 3. 6. 4. 7. 4. 5. 3. 4. 3.]\n"
     ]
    }
   ],
   "source": [
    "for x in m:\n",
    "    for y in x:\n",
    "        m2[y]+=1\n",
    "print (m2)"
   ]
  },
  {
   "cell_type": "markdown",
   "metadata": {},
   "source": [
    "Code di atas digunakan untuk perulangan dalam index m dan kolom di dalamnya akan dihitung modus dari keabuan data masing-masing index sesuai dengan index yang ditemukan dalam m2. Perintah print(m2) digunakan untuk menampilkan nilai yang ada dalam variabel m2."
   ]
  },
  {
   "cell_type": "code",
   "execution_count": 7,
   "metadata": {},
   "outputs": [
    {
     "name": "stdout",
     "output_type": "stream",
     "text": [
      "[0.125    0.0625   0.078125 0.03125  0.03125  0.046875 0.015625 0.046875\n",
      " 0.09375  0.0625   0.109375 0.0625   0.078125 0.046875 0.0625   0.046875]\n"
     ]
    }
   ],
   "source": [
    "for x in range (16):\n",
    "    m2[x]/=64\n",
    "print (m2)"
   ]
  },
  {
   "cell_type": "markdown",
   "metadata": {},
   "source": [
    "Code di atas digunakan untuk perulangan index m2 yang dibagi dengan total jumlah matriks yang ada atau ordo matriksnya. Perintah print(m2) digunakan untuk menampilkan nilai yang ada di variabel m2."
   ]
  },
  {
   "cell_type": "code",
   "execution_count": 8,
   "metadata": {},
   "outputs": [],
   "source": [
    "l=[0,1,2,3,4,5,6,7,8,9,10,11,12,13,14,15]"
   ]
  },
  {
   "cell_type": "markdown",
   "metadata": {},
   "source": [
    "Code di atas digunakan untuk membuat variabel l yang akan menampung nilai l dari 0 sampai 15."
   ]
  },
  {
   "cell_type": "code",
   "execution_count": 9,
   "metadata": {},
   "outputs": [
    {
     "data": {
      "image/png": "[encoded data removed]",
      "text/plain": [
       "<Figure size 432x288 with 1 Axes>"
      ]
     },
     "metadata": {
      "needs_background": "light"
     },
     "output_type": "display_data"
    }
   ],
   "source": [
    "plt.xlabel('keabuan')\n",
    "plt.ylabel('probabilitas')\n",
    "plt.bar(l,m2)\n",
    "plt.show()"
   ]
  },
  {
   "cell_type": "markdown",
   "metadata": {},
   "source": [
    "Code di atas digunakan untuk menampilkan histogram menggunakan plt.bar(l,m2) dan plt.show(). Perintah plt.xlabel digunakan untuk menambahkan label atau keterangan pada sumbu x. Perintah plt.ylabel digunakan untuk menambahkan label atau keterangan pada sumbu y."
   ]
  },
  {
   "cell_type": "code",
   "execution_count": 23,
   "metadata": {},
   "outputs": [
    {
     "name": "stdout",
     "output_type": "stream",
     "text": [
      "[[0. 0. 0. 0. 0.]\n",
      " [0. 0. 0. 0. 0.]\n",
      " [0. 0. 0. 0. 0.]\n",
      " [0. 0. 0. 0. 0.]\n",
      " [0. 0. 0. 0. 0.]]\n",
      "[[ 1  1  3  2  0]\n",
      " [ 4  5  6  5  0]\n",
      " [ 6  2 10  2  0]\n",
      " [ 1  1  3  2  0]\n",
      " [ 0  0  0  0  0]]\n"
     ]
    }
   ],
   "source": [
    "e=np.array([[1,1,3,2,0],\n",
    "            [4,5,6,5,0],\n",
    "            [6,2,10,2,0],\n",
    "            [1,1,3,2,0],\n",
    "            [0,0,0,0,0]])\n",
    "k=np.array([[1,2],[3,5]])\n",
    "c=np.zeros(e.shape)\n",
    "print(c)\n",
    "print(e)"
   ]
  },
  {
   "cell_type": "markdown",
   "metadata": {},
   "source": [
    "Variabel e digunakan untuk menyimpan nilai matriks yang ditambah ordonya menjadi 5x5 dan dijadikan array menggunakan np.array. Variabel k digunakan untuk menyimpan nilai kernel. Variabel c digunakan untuk menyimpan nilai hasil konvolusi. Code print digunakan untuk menampilkan nilai yang ada pada variabel c dan e."
   ]
  },
  {
   "cell_type": "code",
   "execution_count": 24,
   "metadata": {},
   "outputs": [
    {
     "name": "stdout",
     "output_type": "stream",
     "text": [
      "[[40. 52. 50. 17.  0.]\n",
      " [42. 73. 56. 11.  0.]\n",
      " [18. 40. 33.  8.  0.]\n",
      " [ 3.  7.  7.  2.  0.]\n",
      " [ 0.  0.  0.  0.  0.]]\n"
     ]
    }
   ],
   "source": [
    "for rw in range (4):\n",
    "    for cl in range(4):\n",
    "        c[rw,cl]= e[rw,cl]*k[0,0]+e[rw,cl+1]*k[0,1]+e[rw+1,cl]*k[1,0]+e[rw+1,cl+1]*k[1,1]\n",
    "print (c)"
   ]
  },
  {
   "cell_type": "markdown",
   "metadata": {},
   "source": [
    "Code di atas digunakan untuk menghitung perulangan konvolusi dan menampilkan hasilnya."
   ]
  },
  {
   "cell_type": "code",
   "execution_count": 25,
   "metadata": {},
   "outputs": [
    {
     "name": "stdout",
     "output_type": "stream",
     "text": [
      "[[ 8. 11. 10.  3.  0.]\n",
      " [ 8. 15. 11.  2.  0.]\n",
      " [ 3.  8.  7.  1.  0.]\n",
      " [ 0.  1.  1.  0.  0.]\n",
      " [ 0.  0.  0.  0.  0.]]\n"
     ]
    }
   ],
   "source": [
    "for rw in range (4):\n",
    "    for cl in range (4):\n",
    "        c[rw,cl]=round(((c[rw,cl]-2)/71)*15)\n",
    "print (c)"
   ]
  },
  {
   "cell_type": "markdown",
   "metadata": {},
   "source": [
    "Code di atas digunakan untuk menghitung perulangan normalisasi dan menampilkan hasilnya."
   ]
  },
  {
   "cell_type": "code",
   "execution_count": 26,
   "metadata": {},
   "outputs": [
    {
     "name": "stdout",
     "output_type": "stream",
     "text": [
      "[[ 8. 11. 10.  3.]\n",
      " [ 8. 15. 11.  2.]\n",
      " [ 3.  8.  7.  1.]\n",
      " [ 0.  1.  1.  0.]]\n"
     ]
    }
   ],
   "source": [
    "for x in range (4):\n",
    "    for y in range(4):\n",
    "        v[x][y]=c[x][y]\n",
    "print (v)"
   ]
  },
  {
   "cell_type": "markdown",
   "metadata": {},
   "source": [
    "Code di atas digunakan untuk memasukan nilai c yang sebelumnya 5x5 dimana code ini bertujuan untuk menghilangkan angka 0 yang terdapat pada bagian kanan dan bawah matriks dan menjadi matriks 4x4."
   ]
  }
 ],
 "metadata": {
  "kernelspec": {
   "display_name": "Python 3",
   "language": "python",
   "name": "python3"
  },
  "language_info": {
   "codemirror_mode": {
    "name": "ipython",
    "version": 3
   },
   "file_extension": ".py",
   "mimetype": "text/x-python",
   "name": "python",
   "nbconvert_exporter": "python",
   "pygments_lexer": "ipython3",
   "version": "3.7.3"
  }
 },
 "nbformat": 4,
 "nbformat_minor": 4
}
